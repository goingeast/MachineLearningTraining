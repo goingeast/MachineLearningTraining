{
 "cells": [
  {
   "cell_type": "markdown",
   "metadata": {},
   "source": [
    "# Regression\n",
    "## Applications\n",
    "- Stock market forecast\n",
    "- Self-driving car\n",
    "- Recommendation\n",
    "\n",
    "## Linear Model\n",
    "### Define model  \n",
    "If we have this kind of function set. we say this is linear model.\n",
    "$$y = b + \\sum_{}w_ix_i$$\n",
    "$x_i$ is feature, $w_i$ is weight, and $b$ is bias.\n",
    "### Goodness of function  \n",
    "- We have a bunch of training data. $(x1, y1), (x2, y2) ...$, and we use $y^n$ as real output data, $x^n$ as real input data.\n",
    "- Define loss function L. is function of functions as input. $$L(f) = L(w, b) = \\sum_{n=1}^N(y^n - (b + w*x^n))^2$$\n",
    "- Find *min* of $L(f)$, we can use Gradient Descent.\n",
    "    - Pick an initial value $w^0$, $b^0$\n",
    "    - Compute $\\frac{dL}{dw}|_{w=w^0, b=b^0}$, $\\frac{dL}{db}|_{w=w^0,b=b^0}$\n",
    "    - Compute $w^1 = w^0 - \\eta\\frac{dL}{dw}|_{w=w^0,, b=b^0}$, $b^1 = b^0 - \\eta\\frac{dL}{db}|_{w=w^0,, b=b^0}$ $\\eta$ is called *learning rate*.\n",
    "    - local and global minimum issue. Linear regression doesn't have this issue.\n"
   ]
  },
  {
   "cell_type": "markdown",
   "metadata": {},
   "source": []
  },
  {
   "cell_type": "markdown",
   "metadata": {},
   "source": [
    "\n",
    "os.getcwd()"
   ]
  },
  {
   "cell_type": "code",
   "execution_count": null,
   "metadata": {},
   "outputs": [],
   "source": []
  },
  {
   "cell_type": "code",
   "execution_count": null,
   "metadata": {},
   "outputs": [],
   "source": []
  }
 ],
 "metadata": {
  "kernelspec": {
   "display_name": "Python 3",
   "language": "python",
   "name": "python3"
  },
  "language_info": {
   "codemirror_mode": {
    "name": "ipython",
    "version": 3
   },
   "file_extension": ".py",
   "mimetype": "text/x-python",
   "name": "python",
   "nbconvert_exporter": "python",
   "pygments_lexer": "ipython3",
   "version": "3.6.5"
  }
 },
 "nbformat": 4,
 "nbformat_minor": 2
}
